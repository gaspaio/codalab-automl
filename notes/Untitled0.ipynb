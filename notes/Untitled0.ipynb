{
 "metadata": {
  "name": "",
  "signature": "sha256:1047fc742f9cdce1d1baae196fbb22f53becacb754a68ebbf019acd7b037b663"
 },
 "nbformat": 3,
 "nbformat_minor": 0,
 "worksheets": [
  {
   "cells": [
    {
     "cell_type": "code",
     "collapsed": false,
     "input": [
      "%matplotlib inline\n",
      "\n",
      "import os, time\n",
      "from sys import path\n",
      "import numpy as np\n",
      "import pandas as pd\n",
      "import matplotlib.pyplot as plt\n",
      "import seaborn as sns  \n",
      "\n",
      "from sklearn.cross_validation import cross_val_score\n",
      "from sklearn.ensemble import RandomForestClassifier\n",
      "from sklearn.pipeline import make_pipeline, Pipeline\n",
      "from sklearn.metrics import make_scorer\n",
      "from sklearn.feature_selection import VarianceThreshold\n",
      "from sklearn.preprocessing import StandardScaler\n",
      "\n",
      "path.append(\"../code\")\n",
      "path.append(\"../code/vendor\")\n",
      "path.append(\"../code/lib\")\n",
      "\n",
      "from config import CONFIG\n",
      "from data_manager import DataManager\n",
      "from tools import SelectIndependent, NearZeroVar, bac_metric_wrapper\n",
      "\n",
      "D = {}\n",
      "for dataset in [\"christine\", \"jasmine\", \"philippine\", \"madeline\", \"sylvine\"]:\n",
      "    D[dataset] = DataManager(dataset, \"../data\",\n",
      "                             replace_missing=False,\n",
      "                             filter_features=False,\n",
      "                             verbose=0)\n"
     ],
     "language": "python",
     "metadata": {},
     "outputs": [],
     "prompt_number": 1
    },
    {
     "cell_type": "code",
     "collapsed": false,
     "input": [
      "d = D[\"sylvine\"].data\n",
      "print d[\"X_train\"].shape"
     ],
     "language": "python",
     "metadata": {},
     "outputs": [
      {
       "output_type": "stream",
       "stream": "stdout",
       "text": [
        "(5124, 20)\n"
       ]
      }
     ],
     "prompt_number": 3
    },
    {
     "cell_type": "code",
     "collapsed": false,
     "input": [
      "filter = make_pipeline(VarianceThreshold(), SelectIndependent())\n",
      "X_train = filter.fit_transform(d[\"X_train\"])\n",
      "print X_train.shape"
     ],
     "language": "python",
     "metadata": {},
     "outputs": [
      {
       "output_type": "stream",
       "stream": "stdout",
       "text": [
        "(5124, 20)\n"
       ]
      }
     ],
     "prompt_number": 17
    },
    {
     "cell_type": "code",
     "collapsed": false,
     "input": [
      "# pd.DataFrame(X_train).head()\n",
      "# v = np.var(X_train, axis=0)\n",
      "# for i,j in enumerate(v):\n",
      "#     print '{}: {:.4f}'.format(i, j)"
     ],
     "language": "python",
     "metadata": {},
     "outputs": [],
     "prompt_number": 23
    },
    {
     "cell_type": "code",
     "collapsed": false,
     "input": [
      "from sklearn.ensemble import BaggingClassifier\n",
      "from sklearn.naive_bayes import BernoulliNB\n",
      "from sklearn.feature_selection import RFECV\n",
      "from sklearn.decomposition import RandomizedPCA\n",
      "\n",
      "filter = make_pipeline(StandardScaler(), VarianceThreshold())\n",
      "\n",
      "scores = []\n",
      "e_range = np.arange(100, 101, 10)\n",
      "\n",
      "d = D[\"christine\"].data\n",
      "X_train = filter.fit_transform(d[\"X_train\"])\n",
      "Y = d[\"Y_train\"]\n",
      "\n",
      "\n",
      "\n",
      "#f.fit(X_train)\n",
      "#X_train = f.transform(X_train)\n",
      "\n",
      "for e in e_range:\n",
      "    clf = RandomForestClassifier(n_estimators=e, n_jobs=-1)\n",
      "    clf = BaggingClassifier(base_estimator=BernoulliNB(), n_estimators=e, n_jobs=-1)\n",
      "    #score_list = cross_val_score(clf, X_train, Y, cv=5, scoring=make_scorer(bac_metric_wrapper))\n",
      "    scores.append(score_list)\n",
      "\n",
      "sns.boxplot(scores, names=e_range)\n",
      "plt.title(\"Score distribution for different values of n_estimators\")\n",
      "plt.xlabel(\"RF estimators\")\n",
      "plt.ylabel(\"Scores\")\n",
      "plt.show()\n",
      "\n",
      "# 0.46 - scaler, var (300e)\n",
      "# "
     ],
     "language": "python",
     "metadata": {},
     "outputs": [
      {
       "metadata": {},
       "output_type": "display_data",
       "png": "[encoded data removed]",
       "text": [
        "<matplotlib.figure.Figure at 0x10ab2ebd0>"
       ]
      }
     ],
     "prompt_number": 18
    },
    {
     "cell_type": "code",
     "collapsed": false,
     "input": [
      "import sklearn.preprocessing as pp\n",
      "\n",
      "scores = []\n",
      "e_range = np.arange(50, 200, 10)\n",
      "X_filter = pp.PolynomialFeatures(include_bias=False).fit_transform(X_train)\n",
      "print X_filter.shape\n",
      "for e in e_range:\n",
      "    clf = RandomForestClassifier(n_estimators=e, n_jobs=-1)\n",
      "    score_list = cross_val_score(clf, X_filter, d[\"Y_train\"], cv=5, scoring=make_scorer(bac_metric_wrapper))\n",
      "    scores.append(score_list)\n",
      "    \n",
      "sns.boxplot(scores, names=e_range)\n",
      "plt.title(\"Score distribution for different values of n_estimators\")\n",
      "plt.xlabel(\"RF estimators\")\n",
      "plt.ylabel(\"Scores\")\n",
      "plt.show()"
     ],
     "language": "python",
     "metadata": {},
     "outputs": []
    },
    {
     "cell_type": "code",
     "collapsed": false,
     "input": [
      "from sklearn.feature_selection import RFECV\n",
      "import sklearn.preprocessing as pp\n",
      "\n",
      "class RandomForestClassifierWithCoef(RandomForestClassifier):\n",
      "    def fit(self, *args, **kwargs):\n",
      "        super(RandomForestClassifierWithCoef, self).fit(*args, **kwargs)\n",
      "        self.coef_ = self.feature_importances_\n",
      "\n",
      "def fit_predict(X, Y):\n",
      "\n",
      "    cv = 3\n",
      "    K = 0.05\n",
      "    bench_estimators = 300\n",
      "\n",
      "    # Benchmark cycle\n",
      "    print \"Benchmarking {}\".format(\"name\")\n",
      "    start = time.time()\n",
      "    clf = RandomForestClassifierWithCoef(n_jobs=-1, n_estimators=bench_estimators)\n",
      "    selector = RFECV(clf, step=K, cv=cv, scoring=make_scorer(bac_metric_wrapper), verbose=True)\n",
      "    selector.fit(X, Y)\n",
      "    pstart = time.time()\n",
      "    #clf.predict(d.data['X_valid'])\n",
      "    #clf.predict(d.data['X_test'])\n",
      "    cycle_time = time.time() - start\n",
      "    pred_time = time.time() - pstart\n",
      "    print \"Benchmark time={:.2f}, Pred time={:.2f}\".format(cycle_time, pred_time)\n",
      "\n",
      "scores = []\n",
      "#e_range = np.arange(50, 200, 10)\n",
      "X_filter = pp.PolynomialFeatures(include_bias=False).fit_transform(X_train)\n",
      "fit_predict(X_filter, d[\"Y_train\"])"
     ],
     "language": "python",
     "metadata": {},
     "outputs": [
      {
       "output_type": "stream",
       "stream": "stdout",
       "text": [
        "Benchmarking name\n",
        "Finished fold with 1 / 22 feature ranks, score=0.824356"
       ]
      },
      {
       "output_type": "stream",
       "stream": "stdout",
       "text": [
        "\n",
        "Finished fold with 2 / 22 feature ranks, score=0.872365"
       ]
      },
      {
       "output_type": "stream",
       "stream": "stdout",
       "text": [
        "\n",
        "Finished fold with 3 / 22 feature ranks, score=0.896956"
       ]
      },
      {
       "output_type": "stream",
       "stream": "stdout",
       "text": [
        "\n",
        "Finished fold with 4 / 22 feature ranks, score=0.900468"
       ]
      },
      {
       "output_type": "stream",
       "stream": "stdout",
       "text": [
        "\n",
        "Finished fold with 5 / 22 feature ranks, score=0.895785"
       ]
      },
      {
       "output_type": "stream",
       "stream": "stdout",
       "text": [
        "\n",
        "Finished fold with 6 / 22 feature ranks, score=0.901639"
       ]
      },
      {
       "output_type": "stream",
       "stream": "stdout",
       "text": [
        "\n",
        "Finished fold with 7 / 22 feature ranks, score=0.898126"
       ]
      },
      {
       "output_type": "stream",
       "stream": "stdout",
       "text": [
        "\n",
        "Finished fold with 8 / 22 feature ranks, score=0.898126"
       ]
      },
      {
       "output_type": "stream",
       "stream": "stdout",
       "text": [
        "\n",
        "Finished fold with 9 / 22 feature ranks, score=0.895785"
       ]
      },
      {
       "output_type": "stream",
       "stream": "stdout",
       "text": [
        "\n",
        "Finished fold with 10 / 22 feature ranks, score=0.887588"
       ]
      },
      {
       "output_type": "stream",
       "stream": "stdout",
       "text": [
        "\n",
        "Finished fold with 11 / 22 feature ranks, score=0.889930"
       ]
      },
      {
       "output_type": "stream",
       "stream": "stdout",
       "text": [
        "\n",
        "Finished fold with 12 / 22 feature ranks, score=0.887588"
       ]
      },
      {
       "output_type": "stream",
       "stream": "stdout",
       "text": [
        "\n",
        "Finished fold with 13 / 22 feature ranks, score=0.892272"
       ]
      },
      {
       "output_type": "stream",
       "stream": "stdout",
       "text": [
        "\n",
        "Finished fold with 14 / 22 feature ranks, score=0.888759"
       ]
      }
     ]
    },
    {
     "cell_type": "code",
     "collapsed": false,
     "input": [
      "print D"
     ],
     "language": "python",
     "metadata": {},
     "outputs": [
      {
       "output_type": "stream",
       "stream": "stdout",
       "text": [
        "{'philippine': DataManager : philippine, 'sylvine': DataManager : sylvine, 'jasmine': DataManager : jasmine, 'madeline': DataManager : madeline, 'christine': DataManager : christine}\n"
       ]
      }
     ],
     "prompt_number": 3
    },
    {
     "cell_type": "code",
     "collapsed": false,
     "input": [
      "D.keys()"
     ],
     "language": "python",
     "metadata": {},
     "outputs": [
      {
       "metadata": {},
       "output_type": "pyout",
       "prompt_number": 4,
       "text": [
        "['philippine', 'sylvine', 'jasmine', 'madeline', 'christine']"
       ]
      }
     ],
     "prompt_number": 4
    },
    {
     "cell_type": "code",
     "collapsed": false,
     "input": [
      "\n",
      "def notZeroVar(f, freqCut=95/5, uniqueCut=0.1):\n",
      "    unique, counts = np.unique(f, return_counts=True)\n",
      "    \n",
      "    if (len(counts) == 1): return False\n",
      "    \n",
      "    sc = sorted(counts, reverse=True)\n",
      "    return len(unique)/float(len(f)) > uniqueCut or sc[0]/float(sc[1]) < freqCut\n",
      "    \n",
      "\n",
      "def nearZeroVar(f, freqCut=95/5, uniqueCut=0.1):\n",
      "    unique, counts = np.unique(f, return_counts=True)\n",
      "    print \"# samples: {}\".format(len(f))\n",
      "    print \"# unique values: {}\".format(len(unique))\n",
      "    print \"uniqueCut: {:.2f} (less than 0.10%)\".format(len(unique)/float(len(f)))\n",
      "    sc = sorted(counts, reverse=True)\n",
      "    print \"freqRatio: {:.2f} (more than {})\".format(sc[0]/float(sc[1]), 95/5)\n",
      "\n",
      "filter = make_pipeline(NearZeroVar(), SelectIndependent())\n",
      "    \n",
      "for d in D.values():\n",
      "    i = d.data[\"X_train\"].shape[1]\n",
      "    X = filter.fit_transform(d.data[\"X_train\"])\n",
      "    j = X.shape[1]\n",
      "    print d.info[\"name\"], i, j\n"
     ],
     "language": "python",
     "metadata": {},
     "outputs": [
      {
       "output_type": "stream",
       "stream": "stdout",
       "text": [
        "philippine 308 257\n",
        "sylvine 20 20\n",
        "jasmine"
       ]
      },
      {
       "output_type": "stream",
       "stream": "stdout",
       "text": [
        " 144 97\n",
        "madeline"
       ]
      },
      {
       "output_type": "stream",
       "stream": "stdout",
       "text": [
        " 259 259\n",
        "christine"
       ]
      },
      {
       "output_type": "stream",
       "stream": "stdout",
       "text": [
        " 1636 1567\n"
       ]
      }
     ],
     "prompt_number": 4
    },
    {
     "cell_type": "code",
     "collapsed": false,
     "input": [
      "for d in D.values():\n",
      "    i = d.data[\"X_train\"].shape[1]\n",
      "    X = filter.fit_transform(d.data[\"X_train\"])\n",
      "    j = X.shape[1]\n",
      "    s_before = float(np.count_nonzero(d.data[\"X_train\"]))/(d.data[\"X_train\"].shape[0]*d.data[\"X_train\"].shape[1])\n",
      "    s_after = float(np.count_nonzero(X))/(X.shape[0]*X.shape[1])\n",
      "    print d.info[\"name\"], s_before, s_after\n"
     ],
     "language": "python",
     "metadata": {},
     "outputs": [
      {
       "output_type": "stream",
       "stream": "stdout",
       "text": [
        "philippine 0.998795828657 0.998892465026\n",
        "sylvine 0.989666276347 0.989666276347\n",
        "jasmine"
       ]
      },
      {
       "output_type": "stream",
       "stream": "stdout",
       "text": [
        " 0.217916852845 0.294066637185\n",
        "madeline"
       ]
      },
      {
       "output_type": "stream",
       "stream": "stdout",
       "text": [
        " 0.999998770381 0.999998770381\n",
        "christine"
       ]
      },
      {
       "output_type": "stream",
       "stream": "stdout",
       "text": [
        " 0.928688646285 0.947986609197\n"
       ]
      }
     ],
     "prompt_number": 5
    },
    {
     "cell_type": "code",
     "collapsed": false,
     "input": [
      "d = D[\"jasmine\"].data\n",
      "filter = make_pipeline(VarianceThreshold(), SelectIndependent())\n",
      "#X_train = #filter.fit_transform(d[\"X_train\"])\n",
      "X_train = d[\"X_train\"]\n",
      "\n",
      "print X_train.shape, float(np.count_nonzero(X_train))/(X_train.shape[0]*X_train.shape[1])"
     ],
     "language": "python",
     "metadata": {},
     "outputs": [
      {
       "output_type": "stream",
       "stream": "stdout",
       "text": [
        "(2984, 144) 0.217916852845\n"
       ]
      }
     ],
     "prompt_number": 17
    },
    {
     "cell_type": "code",
     "collapsed": false,
     "input": [
      "from sklearn.svm import SVC\n",
      "from sklearn.grid_search import GridSearchCV\n",
      "\n",
      "def svm(X, Y, i=3):\n",
      "    C_range = np.logspace(-2, 10, i)\n",
      "    gamma_range = np.logspace(-9, 3, i)\n",
      "    params = {'C': C_range, 'gamma': gamma_range}\n",
      "    svr = SVC(n_jobs=-1)\n",
      "    clf = GridSearchCV(svr, params)\n",
      "    clf.fit(X, Y)\n",
      "    return clf.best_score_\n",
      "\n",
      "d = D[\"jasmine\"].data\n",
      "#print \"jasmine [full]: \", svm(d[\"X_train\"], d[\"Y_train\"])"
     ],
     "language": "python",
     "metadata": {},
     "outputs": [
      {
       "output_type": "stream",
       "stream": "stdout",
       "text": [
        "\n"
       ]
      }
     ],
     "prompt_number": 3
    },
    {
     "cell_type": "code",
     "collapsed": false,
     "input": [
      "from sklearn.svm import SVC\n",
      "from sklearn.grid_search import GridSearchCV\n",
      "\n",
      "d = D[\"christine\"].data\n",
      "\n",
      "C_range = np.logspace(-2, 10, 13)\n",
      "gamma_range = np.logspace(-9, 3, 13)\n",
      "params = {'C': C_range, 'gamma': gamma_range}\n",
      "#params = {'C': [1, 10, 100, 1000], 'gamma': [0.001, 0.0001]}\n",
      "\n",
      "svr = SVC()\n",
      "clf = GridSearchCV(svr, params)\n",
      "clf.fit(d[\"X_train\"], d[\"Y_train\"])\n",
      "print clf.best_score_"
     ],
     "language": "python",
     "metadata": {},
     "outputs": [
      {
       "output_type": "stream",
       "stream": "stdout",
       "text": [
        "0.5\n"
       ]
      }
     ],
     "prompt_number": 24
    },
    {
     "cell_type": "code",
     "collapsed": false,
     "input": [
      "filter = make_pipeline(VarianceThreshold(), StandardScaler())\n",
      "\n",
      "d = D[\"jasmine\"].data\n",
      "# print \"jasmine [full]: \", svm(d[\"X_train\"], d[\"Y_train\"])\n",
      "print \"jasmine [filtered]: \", svm(filter.fit_transform(d[\"X_train\"]), d[\"Y_train\"])\n",
      "\n",
      "# d = D[\"christine\"].data\n",
      "# print \"christine [full]: \", svm(d[\"X_train\"], d[\"Y_train\"])\n",
      "#print \"christine [filtered]: \", svm(filter.fit_trainsform(d[\"X_train\"]), d[\"Y_train\"])\n"
     ],
     "language": "python",
     "metadata": {},
     "outputs": []
    },
    {
     "cell_type": "code",
     "collapsed": false,
     "input": [
      "%matplotlib inline\n",
      "import matplotlib.pyplot as plt\n",
      "plt.plot([1,4,9],[5.3, 11.5, 28.4])\n",
      "plt.show()"
     ],
     "language": "python",
     "metadata": {},
     "outputs": [
      {
       "metadata": {},
       "output_type": "display_data",
       "png": "[encoded data removed]",
       "text": [
        "<matplotlib.figure.Figure at 0x10461b650>"
       ]
      }
     ],
     "prompt_number": 1
    },
    {
     "cell_type": "code",
     "collapsed": false,
     "input": [
      "from sklearn.svm import SVC\n",
      "from sklearn.grid_search import GridSearchCV\n",
      "\n",
      "def svm(X, Y, i=3, c_min=-2, c_max=2, g_min=-10, g_max=-4):\n",
      "\tC_range = np.logspace(c_min, c_max, i)\n",
      "\tgamma_range = np.logspace(g_min, g_max, i)\n",
      "\tparams = {'C': C_range, 'gamma': gamma_range}\n",
      "\tprint params\n",
      "\tsvr = SVC()\n",
      "\tclf = GridSearchCV(svr, params, n_jobs=-1, scoring=make_scorer(bac_metric_wrapper), verbose=10, refit=False, cv=5)\n",
      "\tclf.fit(X, Y)\n",
      "\tprint \"Best score: {:.4f}\".format(clf.best_score_)\n",
      "\tprint \"Best params: {}\".format(clf.best_params_)"
     ],
     "language": "python",
     "metadata": {},
     "outputs": [],
     "prompt_number": 28
    },
    {
     "cell_type": "code",
     "collapsed": false,
     "input": [
      "from tools import SelectIndependent\n",
      "filter = make_pipeline(VarianceThreshold(), StandardScaler())\n",
      "d = D[\"jasmine\"].data\n",
      "\n",
      "X = filter.fit_transform(d[\"X_train\"])\n",
      "Y = d[\"Y_train\"]"
     ],
     "language": "python",
     "metadata": {},
     "outputs": [],
     "prompt_number": 25
    },
    {
     "cell_type": "code",
     "collapsed": false,
     "input": [
      "%time svm(X,Y,3, 0.315, 0.375, -2.175,-2.275)\n",
      "# Best scores: \n",
      "# 0.5898 sans filtre (avec le nearZero c'est bien bien pire ~0.35) \n",
      "# 0.5898 varianceThreshold only - pas de features constantes dans ce dataset\n",
      "# 0.5871 SelectIndependent()\n",
      "# 0.5643 - StandardScaler(), NearZeroVar()"
     ],
     "language": "python",
     "metadata": {},
     "outputs": [
      {
       "output_type": "stream",
       "stream": "stdout",
       "text": [
        "{'C': array([ 2.06538016,  2.21309471,  2.37137371]), 'gamma': array([ 0.00668344,  0.00595662,  0.00530884])}\n",
        "Fitting 3 folds for each of 9 candidates, totalling 27 fits\n"
       ]
      },
      {
       "output_type": "stream",
       "stream": "stderr",
       "text": [
        "[Parallel(n_jobs=-1)]: Done   1 jobs       | elapsed:    1.5s\n",
        "[Parallel(n_jobs=-1)]: Done   2 jobs       | elapsed:    1.6s\n",
        "[Parallel(n_jobs=-1)]: Done   5 jobs       | elapsed:    2.9s\n",
        "[Parallel(n_jobs=-1)]: Done   8 jobs       | elapsed:    3.0s\n",
        "[Parallel(n_jobs=-1)]: Done  13 jobs       | elapsed:    5.5s\n",
        "[Parallel(n_jobs=-1)]: Done  18 jobs       | elapsed:    7.0s\n",
        "[Parallel(n_jobs=-1)]: Done  21 out of  27 | elapsed:    8.3s remaining:    2.4s\n",
        "[Parallel(n_jobs=-1)]: Done  24 out of  27 | elapsed:    8.5s remaining:    1.1s\n",
        "[Parallel(n_jobs=-1)]: Done  27 out of  27 | elapsed:    9.5s finished\n"
       ]
      },
      {
       "output_type": "stream",
       "stream": "stdout",
       "text": [
        "Best score: 0.5999\n",
        "Best params: {'C': 2.0653801558105296, 'gamma': 0.0059566214352901091}\n",
        "CPU times: user 1.68 s, sys: 288 ms, total: 1.96 s\n",
        "Wall time: 11 s\n",
        "[CV] C=2.06538015581, gamma=0.00668343917569 .........................\n",
        "[CV] C=2.06538015581, gamma=0.00668343917569 .........................\n",
        "[CV] C=2.06538015581, gamma=0.00668343917569 .........................\n",
        "[CV] C=2.06538015581, gamma=0.00595662143529 .........................\n",
        "[CV]  C=2.06538015581, gamma=0.00668343917569, score=0.562249 -   1.4s[CV]  C=2.06538015581, gamma=0.00668343917569, score=0.623742 -   1.5s[CV]  C=2.06538015581, gamma=0.00668343917569, score=0.585513 -   1.4s[CV]  C=2.06538015581, gamma=0.00595662143529, score=0.566265 -   1.4s\n",
        "\n",
        "\n",
        "\n",
        "[CV] C=2.06538015581, gamma=0.00595662143529 .........................\n",
        "[CV] C=2.06538015581, gamma=0.00530884444231 .........................\n",
        "[CV] C=2.06538015581, gamma=0.00595662143529 .........................\n",
        "[CV] C=2.06538015581, gamma=0.00530884444231 .........................\n",
        "[CV]  C=2.06538015581, gamma=0.00595662143529, score=0.639839 -   1.4s[CV]  C=2.06538015581, gamma=0.00530884444231, score=0.566265 -   1.3s[CV]  C=2.06538015581, gamma=0.00595662143529, score=0.593561 -   1.4s[CV]  C=2.06538015581, gamma=0.00530884444231, score=0.633803 -   1.4s\n",
        "\n",
        "\n",
        "\n",
        "[CV] C=2.21309470961, gamma=0.00668343917569 .........................\n",
        "[CV] C=2.06538015581, gamma=0.00530884444231 .........................\n",
        "[CV] C=2.21309470961, gamma=0.00668343917569 .........................\n",
        "[CV] C=2.21309470961, gamma=0.00668343917569 .........................\n",
        "[CV]  C=2.21309470961, gamma=0.00668343917569, score=0.566265 -   1.3s[CV]  C=2.06538015581, gamma=0.00530884444231, score=0.589537 -   1.3s[CV]  C=2.21309470961, gamma=0.00668343917569, score=0.617706 -   1.4s[CV]  C=2.21309470961, gamma=0.00668343917569, score=0.581489 -   1.3s\n",
        "\n",
        "\n",
        "\n",
        "[CV] C=2.21309470961, gamma=0.00595662143529 .........................\n",
        "[CV] C=2.21309470961, gamma=0.00595662143529 .........................\n",
        "[CV] C=2.21309470961, gamma=0.00530884444231 .........................\n",
        "[CV] C=2.21309470961, gamma=0.00595662143529 .........................\n",
        "[CV]  C=2.21309470961, gamma=0.00595662143529, score=0.631791 -   1.4s[CV]  C=2.21309470961, gamma=0.00595662143529, score=0.562249 -   1.3s[CV]  C=2.21309470961, gamma=0.00530884444231, score=0.566265 -   1.3s[CV]  C=2.21309470961, gamma=0.00595662143529, score=0.589537 -   1.3s\n",
        "\n",
        "\n",
        "\n",
        "[CV] C=2.37137370566, gamma=0.00668343917569 .........................\n",
        "[CV] C=2.21309470961, gamma=0.00530884444231 .........................\n",
        "[CV] C=2.37137370566, gamma=0.00668343917569 .........................\n",
        "[CV] C=2.21309470961, gamma=0.00530884444231 .........................\n",
        "[CV]  C=2.37137370566, gamma=0.00668343917569, score=0.566265 -   1.4s[CV]  C=2.21309470961, gamma=0.00530884444231, score=0.633803 -   1.4s[CV]  C=2.37137370566, gamma=0.00668343917569, score=0.621730 -   1.4s[CV]  C=2.21309470961, gamma=0.00530884444231, score=0.589537 -   1.3s\n",
        "\n",
        "\n",
        "\n",
        "[CV] C=2.37137370566, gamma=0.00595662143529 .........................\n",
        "[CV] C=2.37137370566, gamma=0.00668343917569 .........................\n",
        "[CV] C=2.37137370566, gamma=0.00595662143529 .........................\n",
        "[CV] C=2.37137370566, gamma=0.00595662143529 .........................\n",
        "[CV]  C=2.37137370566, gamma=0.00595662143529, score=0.625755 -   1.4s[CV]  C=2.37137370566, gamma=0.00668343917569, score=0.573441 -   1.4s[CV]  C=2.37137370566, gamma=0.00595662143529, score=0.587525 -   1.3s[CV]  C=2.37137370566, gamma=0.00595662143529, score=0.558233 -   1.3s\n",
        "\n",
        "\n",
        "\n",
        "[CV] C=2.37137370566, gamma=0.00530884444231 .........................\n",
        "[CV] C=2.37137370566, gamma=0.00530884444231 .........................\n",
        "[CV] C=2.37137370566, gamma=0.00530884444231 .........................\n",
        "[CV]  C=2.37137370566, gamma=0.00530884444231, score=0.566265 -   1.0s[CV]  C=2.37137370566, gamma=0.00530884444231, score=0.635815 -   1.0s[CV]  C=2.37137370566, gamma=0.00530884444231, score=0.591549 -   1.0s\n",
        "\n",
        "\n"
       ]
      }
     ],
     "prompt_number": 54
    },
    {
     "cell_type": "code",
     "collapsed": false,
     "input": [
      "def sampleSpace(center=(0,0), x_len=2, y_len=2, x_range=(-1,1), y_range=(-1,1)):\n",
      "    # Check grid fits inside the range\n",
      "    if x_len > x_range[1] - x_range[0] or y_len > y_range[1] - y_range[0]:\n",
      "        raise ValueError(\"Grid outside range.\")\n",
      "\n",
      "    # Move center if it's out of range\n",
      "    x_radius = x_len/2.0\n",
      "    y_radius = y_len/2.0\n",
      "    center = list(center)\n",
      "\n",
      "    if center[0] - x_radius < x_range[0]:\n",
      "        center[0] = x_range[0] + x_radius\n",
      "    elif center[0] + x_radius > x_range[1]:\n",
      "        center[0] = x_range[1] - x_radius\n",
      "\n",
      "    print center[1], y_radius, y_range[1], center[1] - y_radius\n",
      "    if center[1] - y_radius < y_range[0]:\n",
      "        center[1] = x_range[0] + y_radius\n",
      "        print 1\n",
      "    elif center[1] + y_radius > y_range[1]:\n",
      "        center[1] = y_range[1] - y_radius\n",
      "        print 2\n",
      "\n",
      "    print center\n",
      "\n",
      "    grid3d = [(x,y)\n",
      "                for x in [center[0] - x_radius, center[0], center[0] + x_radius]\n",
      "                    for y in [center[1] - y_radius, center[1], center[1] + y_radius]]\n",
      "\n",
      "    grid2d = [(x,y)\n",
      "                for x in [center[0] - x_radius/2.0, center[0] + x_radius/2.0]\n",
      "                    for y in [center[1] - y_radius/2.0, center[1] + y_radius/2.0]]\n",
      "\n",
      "    return grid3d + grid2d\n",
      "    \n",
      "# best score, params, clf, \n",
      "def GridSearchDOE(clf, X, Y, range_c, range_gamma, iterations = 20):\n",
      "    \n",
      "    def search(clf, X, Y, center, x_len, y_len, range_x, range_y, i=20):\n",
      "        # Compute center & Grid\n",
      "        grid = sampleSpace(center, x_len, y_len, range_x, range_y)\n",
      "        \n",
      "        \n",
      "        # Do 3 fold cross validation\n",
      "    \n",
      "    # reiterate ? \n",
      "    c_len = range_c[1] - range_c[0]\n",
      "    g_len = range_gamma[1] - range_gamma[0]\n",
      "    center = (range_c[1] - c_len/2.0, range_gamma[1] - g_len/2.0)\n",
      "    best_score, best_params = search(clf, X, Y, center, c_len, g_len, range_c, range_gamma, 10)"
     ],
     "language": "python",
     "metadata": {},
     "outputs": []
    }
   ],
   "metadata": {}
  }
 ]
}