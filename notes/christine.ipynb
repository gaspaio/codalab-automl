{
 "metadata": {
  "name": "",
  "signature": "sha256:bf99c90d364a82d144ad3ad079ece795684e822715e0b47fc720df256f9a3058"
 },
 "nbformat": 3,
 "nbformat_minor": 0,
 "worksheets": [
  {
   "cells": [
    {
     "cell_type": "code",
     "collapsed": false,
     "input": [
      "%matplotlib inline\n",
      "\n",
      "import os, time\n",
      "from sys import path\n",
      "import numpy as np\n",
      "import pandas as pd\n",
      "import matplotlib.pyplot as plt\n",
      "import seaborn as sns  \n",
      "\n",
      "from sklearn.cross_validation import cross_val_score\n",
      "from sklearn.ensemble import RandomForestClassifier\n",
      "from sklearn.pipeline import make_pipeline, Pipeline\n",
      "from sklearn.feature_selection import GenericUnivariateSelect, f_classif\n",
      "from sklearn.metrics import make_scorer\n",
      "from sklearn.grid_search import GridSearchCV\n",
      "\n",
      "path.append(\"../code\")\n",
      "path.append(\"../code/vendor\")\n",
      "path.append(\"../code/lib\")\n",
      "from config import CONFIG\n",
      "\n",
      "\n",
      "from data_manager import DataManager\n",
      "from libscores import bac_metric"
     ],
     "language": "python",
     "metadata": {},
     "outputs": [],
     "prompt_number": 1
    },
    {
     "cell_type": "code",
     "collapsed": false,
     "input": [
      "D = {}\n",
      "for dataset in [\"christine\", \"jasmine\", \"philippine\", \"madeline\", \"sylvine\"]:\n",
      "    D[dataset] = DataManager(dataset, \"../data\",\n",
      "                             replace_missing=False,\n",
      "                             filter_features=False,\n",
      "                             verbose=0)\n"
     ],
     "language": "python",
     "metadata": {},
     "outputs": [],
     "prompt_number": 2
    },
    {
     "cell_type": "markdown",
     "metadata": {},
     "source": [
      "## Dataset info"
     ]
    },
    {
     "cell_type": "code",
     "collapsed": false,
     "input": [
      "from sklearn.feature_selection import VarianceThreshold\n",
      "import pandas as pd\n",
      "\n",
      "def unique_rows(a):\n",
      "    a = np.ascontiguousarray(a)\n",
      "    unique_a = np.unique(a.view([('', a.dtype)]*a.shape[1]))\n",
      "    return unique_a.view(a.dtype).reshape((unique_a.shape[0], a.shape[1]))\n",
      "\n",
      "def count_duplicates(X, axis=0):\n",
      "    if axis == 1:\n",
      "        X = X.T\n",
      "    \n",
      "    d = collections.OrderedDict()\n",
      "\n",
      "    for a in X:\n",
      "        t = tuple(a)\n",
      "        if t in d:\n",
      "            d[t] += 1\n",
      "        else:\n",
      "            d[t] = 1\n",
      "\n",
      "    return X.shape[0] - len(d.values())\n",
      "\n",
      "# cf. http://stackoverflow.com/questions/13312498/how-to-find-degenerate-rows-columns-in-a-covariance-matrix\n",
      "def independent_columns(A, tol = 1e-05):\n",
      "    \"\"\"\n",
      "    Return an array composed of independent columns of A.\n",
      "\n",
      "    Note the answer may not be unique; this function returns one of many\n",
      "    possible answers.\n",
      "\n",
      "    http://stackoverflow.com/q/13312498/190597 (user1812712)\n",
      "    http://math.stackexchange.com/a/199132/1140 (Gerry Myerson)\n",
      "    http://mail.scipy.org/pipermail/numpy-discussion/2008-November/038705.html\n",
      "        (Anne Archibald)\n",
      "\n",
      "    >>> A = np.array([(2,4,1,3),(-1,-2,1,0),(0,0,2,2),(3,6,2,5)])\n",
      "    >>> independent_columns(A)\n",
      "    np.array([[1, 4],\n",
      "              [2, 5],\n",
      "              [3, 6]])\n",
      "    \"\"\"\n",
      "    Q, R = np.linalg.qr(A)\n",
      "    return np.abs(R.diagonal()) > tol\n",
      "\n",
      "print A\n",
      "A = np.array([(2,4,1,3),(-1,-2,1,0),(0,0,2,2),(3,6,2,5)])\n",
      "print independent_columns(A)\n"
     ],
     "language": "python",
     "metadata": {},
     "outputs": [
      {
       "output_type": "stream",
       "stream": "stdout",
       "text": [
        "[[ 2  4  1  3]\n",
        " [-1 -2  1  0]\n",
        " [ 0  0  2  2]\n",
        " [ 3  6  2  5]]\n",
        "[ True False  True False]\n"
       ]
      }
     ],
     "prompt_number": 94
    },
    {
     "cell_type": "code",
     "collapsed": false,
     "input": [
      "\n",
      "\n",
      "A = np.array([(2,4,1,3),(-1,-2,1,0),(0,0,2,2),(3,6,2,5)])\n",
      "print A\n",
      "selector = SelectIndependent().fit(A)\n",
      "print selector.transform(A)\n",
      "\n",
      "B = np.array([(1,2,3,6), (4,5,6,6)])\n",
      "print B\n",
      "print selector.transform(B)"
     ],
     "language": "python",
     "metadata": {},
     "outputs": [
      {
       "output_type": "stream",
       "stream": "stdout",
       "text": [
        "[[ 2  4  1  3]\n",
        " [-1 -2  1  0]\n",
        " [ 0  0  2  2]\n",
        " [ 3  6  2  5]]\n",
        "[[ 2  1]\n",
        " [-1  1]\n",
        " [ 0  2]\n",
        " [ 3  2]]\n",
        "[[1 2 3 6]\n",
        " [4 5 6 6]]\n",
        "[[1 3]\n",
        " [4 6]]\n"
       ]
      }
     ],
     "prompt_number": 10
    },
    {
     "cell_type": "code",
     "collapsed": false,
     "input": [
      "from tools import SelectIndependent\n",
      "\n",
      "import collections\n",
      "\n",
      "def count_duplicates(X, axis=0):\n",
      "    if axis == 1:\n",
      "        X = X.T\n",
      "    \n",
      "    d = collections.OrderedDict()\n",
      "\n",
      "    for a in X:\n",
      "        t = tuple(a)\n",
      "        if t in d:\n",
      "            d[t] += 1\n",
      "        else:\n",
      "            d[t] = 1\n",
      "\n",
      "    return X.shape[0] - len(d.values())\n",
      "\n",
      "for d in D.values():\n",
      "    x = d.data['X_train']\n",
      "    n= d.info['name'].upper()\n",
      "    \n",
      "    nz = [np.count_nonzero(c) for c in x.T]\n",
      "    print \"\\n{} info ({}x{})\".format(n, x.shape[0], x.shape[1])\n",
      "    print \"Sparsity: {:.2%}\".format(float(np.count_nonzero(x))/(x.shape[0]*x.shape[1]))\n",
      "    print \"Nz elements by feat: m={:.2f}, std={:.2f}\".format(np.mean(nz), np.std(nz))\n",
      "    \n",
      "    const_cols = x.shape[1] - np.count_nonzero([np.var(m) for m in x.T])\n",
      "    print \"Constant feats: {}\".format(const_cols)\n",
      "\n",
      "    print \"Duplicate rows: {}\".format(count_duplicates(x))\n",
      "    print \"Duplicate cols: {}\".format(count_duplicates(x,1))\n",
      "    \n",
      "    indep_cols = SelectIndependent().fit_transform(x).shape[1]\n",
      "    print \"Dependent cols: {}\".format(x.shape[1] - indep_cols)\n",
      "    "
     ],
     "language": "python",
     "metadata": {},
     "outputs": [
      {
       "output_type": "stream",
       "stream": "stdout",
       "text": [
        "\n",
        "PHILIPPINE info (5832x308)\n",
        "Sparsity: 99.88%\n",
        "Nz elements by feat: m=5824.98, std=46.19\n",
        "Constant feats: 0"
       ]
      },
      {
       "output_type": "stream",
       "stream": "stdout",
       "text": [
        "\n",
        "Duplicate rows: 0"
       ]
      },
      {
       "output_type": "stream",
       "stream": "stdout",
       "text": [
        "\n",
        "Duplicate cols: 51"
       ]
      },
      {
       "output_type": "stream",
       "stream": "stdout",
       "text": [
        "\n",
        "Dependent cols: 51"
       ]
      },
      {
       "output_type": "stream",
       "stream": "stdout",
       "text": [
        "\n",
        "\n",
        "SYLVINE info (5124x20)\n",
        "Sparsity: 98.97%\n",
        "Nz elements by feat: m=5071.05, std=104.85\n",
        "Constant feats: 0\n",
        "Duplicate rows: 0"
       ]
      },
      {
       "output_type": "stream",
       "stream": "stdout",
       "text": [
        "\n",
        "Duplicate cols: 0\n",
        "Dependent cols: 0\n",
        "\n",
        "JASMINE info (2984x144)\n",
        "Sparsity: 21.79%\n",
        "Nz elements by feat: m=650.26, std=746.27\n",
        "Constant feats: 0"
       ]
      },
      {
       "output_type": "stream",
       "stream": "stdout",
       "text": [
        "\n",
        "Duplicate rows: 0"
       ]
      },
      {
       "output_type": "stream",
       "stream": "stdout",
       "text": [
        "\n",
        "Duplicate cols: 0"
       ]
      },
      {
       "output_type": "stream",
       "stream": "stdout",
       "text": [
        "\n",
        "Dependent cols: 6"
       ]
      },
      {
       "output_type": "stream",
       "stream": "stdout",
       "text": [
        "\n",
        "\n",
        "MADELINE info (3140x259)\n",
        "Sparsity: 100.00%\n",
        "Nz elements by feat: m=3140.00, std=0.06\n",
        "Constant feats: 0"
       ]
      },
      {
       "output_type": "stream",
       "stream": "stdout",
       "text": [
        "\n",
        "Duplicate rows: 0"
       ]
      },
      {
       "output_type": "stream",
       "stream": "stdout",
       "text": [
        "\n",
        "Duplicate cols: 0"
       ]
      },
      {
       "output_type": "stream",
       "stream": "stdout",
       "text": [
        "\n",
        "Dependent cols: 0"
       ]
      },
      {
       "output_type": "stream",
       "stream": "stdout",
       "text": [
        "\n",
        "\n",
        "CHRISTINE info (5418x1636)"
       ]
      },
      {
       "output_type": "stream",
       "stream": "stdout",
       "text": [
        "\n",
        "Sparsity: 92.87%"
       ]
      },
      {
       "output_type": "stream",
       "stream": "stdout",
       "text": [
        "\n",
        "Nz elements by feat: m=5031.64, std=1038.63\n",
        "Constant feats: 25"
       ]
      },
      {
       "output_type": "stream",
       "stream": "stdout",
       "text": [
        "\n",
        "Duplicate rows: 0"
       ]
      },
      {
       "output_type": "stream",
       "stream": "stdout",
       "text": [
        "\n",
        "Duplicate cols: 26"
       ]
      },
      {
       "output_type": "stream",
       "stream": "stdout",
       "text": [
        "\n",
        "Dependent cols: 33"
       ]
      },
      {
       "output_type": "stream",
       "stream": "stdout",
       "text": [
        "\n"
       ]
      }
     ],
     "prompt_number": 13
    },
    {
     "cell_type": "code",
     "collapsed": false,
     "input": [
      "from sklearn.pipeline import make_union\n",
      "\n",
      "transf = make_pipeline(VarianceThreshold(), StandardScaler(), SelectIndependent())\n",
      "A = np.array([(2,4,1,3),(-1,-2,1,0),(0,0,2,2),(3,6,2,5)])\n",
      "print A\n",
      "print transf.fit_transform(A.astype('float'))"
     ],
     "language": "python",
     "metadata": {},
     "outputs": [
      {
       "output_type": "stream",
       "stream": "stdout",
       "text": [
        "[[ 2  4  1  3]\n",
        " [-1 -2  1  0]\n",
        " [ 0  0  2  2]\n",
        " [ 3  6  2  5]]\n",
        "[[ 0.63245553 -1.        ]\n",
        " [-1.26491106 -1.        ]\n",
        " [-0.63245553  1.        ]\n",
        " [ 1.26491106  1.        ]]\n"
       ]
      }
     ],
     "prompt_number": 21
    },
    {
     "cell_type": "code",
     "collapsed": false,
     "input": [
      "print A\n",
      "B = VarianceThreshold().fit_transform(A)\n",
      "C = StandardScaler().fit_transform(B)\n",
      "print SelectIndependent().fit_transform(C)"
     ],
     "language": "python",
     "metadata": {},
     "outputs": [
      {
       "output_type": "stream",
       "stream": "stdout",
       "text": [
        "[[ 2  4  1  3]\n",
        " [-1 -2  1  0]\n",
        " [ 0  0  2  2]\n",
        " [ 3  6  2  5]]\n",
        "[[ 0.63245553 -1.        ]\n",
        " [-1.26491106 -1.        ]\n",
        " [-0.63245553  1.        ]\n",
        " [ 1.26491106  1.        ]]\n"
       ]
      }
     ],
     "prompt_number": 20
    },
    {
     "cell_type": "code",
     "collapsed": false,
     "input": [
      "import collections\n",
      "\n",
      "def count_duplicates(X, axis=0):\n",
      "    if axis == 1:\n",
      "        X = X.T\n",
      "    \n",
      "    d = collections.OrderedDict()\n",
      "\n",
      "    for a in X:\n",
      "        t = tuple(a)\n",
      "        if t in d:\n",
      "            d[t] += 1\n",
      "        else:\n",
      "            d[t] = 1\n",
      "\n",
      "    return X.shape[0] - len(d.values())\n",
      "\n",
      "#print d\n",
      "#result = []\n",
      "#for (key, value) in d.items():\n",
      "# result.append(list(key) + [value])\n",
      "\n",
      "#B = np.asarray(result)\n",
      "x = np.array([[3,2,3],[3,4,3]])\n",
      "print x\n",
      "print count_duplicates(x)\n",
      "\n",
      "\n",
      "# print B"
     ],
     "language": "python",
     "metadata": {},
     "outputs": [
      {
       "output_type": "stream",
       "stream": "stdout",
       "text": [
        "[[3 2 3]\n",
        " [3 4 3]]\n",
        "0\n"
       ]
      }
     ],
     "prompt_number": 71
    },
    {
     "cell_type": "markdown",
     "metadata": {},
     "source": [
      "## Baseline"
     ]
    },
    {
     "cell_type": "code",
     "collapsed": false,
     "input": [
      "def bac_metric_wrapper(y, y_pred):\n",
      "    if y.ndim == 1:\n",
      "        y = np.reshape(y, (len(y), 1))\n",
      "    if y_pred.ndim == 1:\n",
      "        y_pred = np.reshape(y_pred, (len(y_pred), 1))\n",
      "\n",
      "    return bac_metric(y, y_pred)"
     ],
     "language": "python",
     "metadata": {},
     "outputs": [],
     "prompt_number": 3
    },
    {
     "cell_type": "code",
     "collapsed": false,
     "input": [
      "# Compute baseline scores with RFCs:\n",
      "d_scores = {}\n",
      "e_range = np.arange(10, 61, 5)\n",
      "\n",
      "for d in D.values():\n",
      "    print \"Computing {}\".format(d.info[\"name\"])\n",
      "    scores = []\n",
      "\n",
      "    for e in e_range:\n",
      "        rf = RandomForestClassifier(n_estimators=e, n_jobs=2)   \n",
      "        score_list = cross_val_score(rf, d.data[\"X_train\"], d.data[\"Y_train\"], cv=5, scoring=make_scorer(bac_metric_wrapper))\n",
      "        scores.append(score_list)\n",
      "    \n",
      "    d_scores[d.info[\"name\"]] = scores\n"
     ],
     "language": "python",
     "metadata": {},
     "outputs": [
      {
       "output_type": "stream",
       "stream": "stdout",
       "text": [
        "Computing philippine\n",
        "Computing sylvine"
       ]
      },
      {
       "output_type": "stream",
       "stream": "stdout",
       "text": [
        "\n",
        "Computing jasmine"
       ]
      },
      {
       "output_type": "stream",
       "stream": "stdout",
       "text": [
        "\n",
        "Computing madeline"
       ]
      },
      {
       "output_type": "stream",
       "stream": "stdout",
       "text": [
        "\n",
        "Computing christine"
       ]
      },
      {
       "output_type": "stream",
       "stream": "stdout",
       "text": [
        "\n"
       ]
      }
     ],
     "prompt_number": 11
    },
    {
     "cell_type": "code",
     "collapsed": false,
     "input": [
      "# Plot scores\n",
      "def score_plot(d_scores):\n",
      "    f, axarr = plt.subplots(3,2, figsize=(17, 10))\n",
      "    f.suptitle('Baseline scores', fontsize=14)\n",
      "    r = c = 0\n",
      "    for d in D.values():\n",
      "        axarr[r][c].set_title(\"{} ({}x{})\".format(d.info[\"name\"], int(d.info[\"train_num\"]*4.0/5), d.info[\"feat_num\"]))\n",
      "        sns.boxplot(d_scores[d.info[\"name\"]], names=e_range, ax=axarr[r][c])\n",
      "        if c == 1:\n",
      "            c = 0\n",
      "            r += 1\n",
      "        else:\n",
      "            c += 1\n",
      "    plt.show()\n",
      "    \n",
      "score_plot(d_scores)"
     ],
     "language": "python",
     "metadata": {},
     "outputs": [
      {
       "output_type": "stream",
       "stream": "stdout",
       "text": [
        "0 0\n",
        "0"
       ]
      },
      {
       "output_type": "stream",
       "stream": "stdout",
       "text": [
        " 1\n",
        "1"
       ]
      },
      {
       "output_type": "stream",
       "stream": "stdout",
       "text": [
        " 0\n",
        "1"
       ]
      },
      {
       "output_type": "stream",
       "stream": "stdout",
       "text": [
        " 1\n",
        "2"
       ]
      },
      {
       "output_type": "stream",
       "stream": "stdout",
       "text": [
        " 0\n"
       ]
      },
      {
       "metadata": {},
       "output_type": "display_data",
       "png": "[encoded data removed]",
       "text": [
        "<matplotlib.figure.Figure at 0x10dc21dd0>"
       ]
      }
     ],
     "prompt_number": 37
    },
    {
     "cell_type": "markdown",
     "metadata": {},
     "source": [
      "## Feature selection (300 K-best)"
     ]
    },
    {
     "cell_type": "code",
     "collapsed": false,
     "input": [
      "%%time\n",
      "scores = []\n",
      "e_range = np.arange(10, 60, 5)\n",
      "for e in e_range:\n",
      "    clf = make_pipeline(\n",
      "        GenericUnivariateSelect(f_classif, 'k_best', 200),\n",
      "        RandomForestClassifier(n_estimators=e, n_jobs=4),\n",
      "    )\n",
      "    score_list = cross_val_score(clf, d.data[\"X_train\"], d.data[\"Y_train\"], cv=5, scoring=make_scorer(bac_metric_wrapper))\n",
      "    scores.append(score_list)\n",
      "    \n",
      "sns.boxplot(scores, names=e_range)\n",
      "plt.title(\"Score distribution for different values of n_estimators\")\n",
      "plt.xlabel(\"RF estimators\")\n",
      "plt.ylabel(\"Scores\")\n",
      "plt.show()"
     ],
     "language": "python",
     "metadata": {},
     "outputs": [
      {
       "metadata": {},
       "output_type": "display_data",
       "png": "[encoded data removed]",
       "text": [
        "<matplotlib.figure.Figure at 0x10a8e0c50>"
       ]
      },
      {
       "output_type": "stream",
       "stream": "stdout",
       "text": [
        "CPU times: user 1min 25s, sys: 2.67 s, total: 1min 28s\n",
        "Wall time: 42.9 s\n"
       ]
      }
     ],
     "prompt_number": 12
    },
    {
     "cell_type": "code",
     "collapsed": false,
     "input": [
      "%%time\n",
      "d = D[\"christine\"]\n",
      "\n",
      "scores = []\n",
      "e_range = np.arange(50, 101, 10)\n",
      "k_range = np.arange(d.info[\"feat_num\"]/5, d.info[\"feat_num\"] + 1, d.info[\"feat_num\"]/5)\n",
      "\n",
      "param_grid = [\n",
      "    {'clf__n_estimators': e_range, 'filter__param': k_range}\n",
      "]\n",
      "\n",
      "pipeline = Pipeline([\n",
      "    ('filter', GenericUnivariateSelect(f_classif, 'k_best')),\n",
      "    ('clf', RandomForestClassifier(n_jobs=-1))\n",
      "])\n",
      "\n",
      "scores = GridSearchCV(pipeline, param_grid, scoring=make_scorer(bac_metric_wrapper)).fit(d.data[\"X_train\"], d.data[\"Y_train\"])\n",
      "\n",
      "\n",
      "\"\"\"\n",
      "for k in k_range:\n",
      "    clf = make_pipeline(\n",
      "        GenericUnivariateSelect(f_classif, 'k_best', k),\n",
      "        RandomForestClassifier(n_estimators=50, n_jobs=2),\n",
      "    )\n",
      "    score_list = cross_val_score(clf, d.data[\"X_train\"], d.data[\"Y_train\"], cv=5, scoring=make_scorer(bac_metric_wrapper))\n",
      "    scores.append(score_list)\n",
      "    \n",
      "sns.boxplot(scores, names=k_range)\n",
      "plt.title(\"Score distribution for different values of n_estimators\")\n",
      "plt.xlabel(\"RF estimators\")\n",
      "plt.ylabel(\"Scores\")\n",
      "plt.show()\n",
      "\"\"\""
     ],
     "language": "python",
     "metadata": {},
     "outputs": [
      {
       "output_type": "stream",
       "stream": "stdout",
       "text": [
        "CPU times: user 10min 22s, sys: 7.76 s, total: 10min 30s\n",
        "Wall time: 3min 49s\n"
       ]
      }
     ],
     "prompt_number": 8
    },
    {
     "cell_type": "code",
     "collapsed": false,
     "input": [
      "\n",
      "print scores.best_score_\n",
      "print scores.best_params_"
     ],
     "language": "python",
     "metadata": {},
     "outputs": [
      {
       "output_type": "stream",
       "stream": "stdout",
       "text": [
        "0.479881875231\n",
        "{'filter__param': 654, 'clf__n_estimators': 100}\n"
       ]
      }
     ],
     "prompt_number": 9
    },
    {
     "cell_type": "code",
     "collapsed": false,
     "input": [
      "print scores.grid_scores_"
     ],
     "language": "python",
     "metadata": {},
     "outputs": [
      {
       "output_type": "stream",
       "stream": "stdout",
       "text": [
        "[mean: 0.44961, std: 0.01111, params: {'filter__param': 327, 'clf__n_estimators': 50}, mean: 0.45847, std: 0.00863, params: {'filter__param': 654, 'clf__n_estimators': 50}, mean: 0.46032, std: 0.00276, params: {'filter__param': 981, 'clf__n_estimators': 50}, mean: 0.43005, std: 0.00725, params: {'filter__param': 1308, 'clf__n_estimators': 50}, mean: 0.42894, std: 0.01231, params: {'filter__param': 1635, 'clf__n_estimators': 50}, mean: 0.45035, std: 0.00365, params: {'filter__param': 327, 'clf__n_estimators': 60}, mean: 0.45515, std: 0.00633, params: {'filter__param': 654, 'clf__n_estimators': 60}, mean: 0.46290, std: 0.00773, params: {'filter__param': 981, 'clf__n_estimators': 60}, mean: 0.43226, std: 0.01152, params: {'filter__param': 1308, 'clf__n_estimators': 60}, mean: 0.44444, std: 0.01318, params: {'filter__param': 1635, 'clf__n_estimators': 60}, mean: 0.45257, std: 0.00602, params: {'filter__param': 327, 'clf__n_estimators': 70}, mean: 0.45367, std: 0.01796, params: {'filter__param': 654, 'clf__n_estimators': 70}, mean: 0.44297, std: 0.00995, params: {'filter__param': 981, 'clf__n_estimators': 70}, mean: 0.44223, std: 0.02106, params: {'filter__param': 1308, 'clf__n_estimators': 70}, mean: 0.43928, std: 0.01116, params: {'filter__param': 1635, 'clf__n_estimators': 70}, mean: 0.44555, std: 0.01680, params: {'filter__param': 327, 'clf__n_estimators': 80}, mean: 0.47693, std: 0.00892, params: {'filter__param': 654, 'clf__n_estimators': 80}, mean: 0.45257, std: 0.00892, params: {'filter__param': 981, 'clf__n_estimators': 80}, mean: 0.45072, std: 0.01455, params: {'filter__param': 1308, 'clf__n_estimators': 80}, mean: 0.45109, std: 0.01405, params: {'filter__param': 1635, 'clf__n_estimators': 80}, mean: 0.45958, std: 0.01404, params: {'filter__param': 327, 'clf__n_estimators': 90}, mean: 0.46142, std: 0.00910, params: {'filter__param': 654, 'clf__n_estimators': 90}, mean: 0.45367, std: 0.01784, params: {'filter__param': 981, 'clf__n_estimators': 90}, mean: 0.44666, std: 0.00820, params: {'filter__param': 1308, 'clf__n_estimators': 90}, mean: 0.43891, std: 0.00691, params: {'filter__param': 1635, 'clf__n_estimators': 90}, mean: 0.45663, std: 0.01280, params: {'filter__param': 327, 'clf__n_estimators': 100}, mean: 0.47988, std: 0.01040, params: {'filter__param': 654, 'clf__n_estimators': 100}, mean: 0.45773, std: 0.00641, params: {'filter__param': 981, 'clf__n_estimators': 100}, mean: 0.44777, std: 0.02070, params: {'filter__param': 1308, 'clf__n_estimators': 100}, mean: 0.45220, std: 0.01318, params: {'filter__param': 1635, 'clf__n_estimators': 100}]\n"
       ]
      }
     ],
     "prompt_number": 10
    },
    {
     "cell_type": "code",
     "collapsed": false,
     "input": [
      "%%time\n",
      "\n",
      "from sklearn.feature_selection import RFECV\n",
      "import sklearn.preprocessing as pp\n",
      "\n",
      "class RandomForestClassifierWithCoef(RandomForestClassifier):\n",
      "    def fit(self, *args, **kwargs):\n",
      "        super(RandomForestClassifierWithCoef, self).fit(*args, **kwargs)\n",
      "        self.coef_ = self.feature_importances_\n",
      "\n",
      "def fit_predict(d, time_budget):\n",
      "\n",
      "    cv = 3\n",
      "    K = 0.1\n",
      "    bench_estimators = 30\n",
      "\n",
      "    # Benchmark cycle\n",
      "    print \"Benchmarking {}\".format(d.info[\"name\"])\n",
      "    start = time.time()\n",
      "    clf = RandomForestClassifierWithCoef(n_jobs=-1, n_estimators=bench_estimators)\n",
      "    selector = RFECV(clf, step=K, cv=cv, scoring=make_scorer(bac_metric_wrapper), verbose=True)\n",
      "    selector.fit(d.data[\"X_train\"], d.data[\"Y_train\"])\n",
      "    pstart = time.time()\n",
      "    #clf.predict(d.data['X_valid'])\n",
      "    #clf.predict(d.data['X_test'])\n",
      "    cycle_time = time.time() - start\n",
      "    pred_time = time.time() - pstart\n",
      "    print \"Benchmark time={:.2f}, Pred time={:.2f}\".format(cycle_time, pred_time)\n",
      "\n",
      "    #nests = bench_estimators * int(np.floor((tbudget - pred_time) / (K * cv * cycle_time)))\n",
      "\n",
      "    #print \"Estimators={}\".format(nests)\n",
      "\n",
      "    #k_range = np.arange(d.info[\"feat_num\"]/K, d.info[\"feat_num\"] + 1, d.info[\"feat_num\"]/K)\n",
      "\n",
      "    #print k_range\n",
      "\n",
      "    #param_grid = [{'filter__param': k_range}]\n",
      "\n",
      "    #pipeline = Pipeline([\n",
      "    #    ('filter', GenericUnivariateSelect(f_classif, 'k_best')),\n",
      "    #    ('clf', RandomForestClassifier(n_jobs=-1, n_estimators=nests))\n",
      "    #])\n",
      "\n",
      "    #gs = GridSearchCV(pipeline, param_grid, cv=cv, scoring=make_scorer(bac_metric_wrapper))\n",
      "    #gs.fit(d.data[\"X_train\"], d.data[\"Y_train\"])\n",
      "\n",
      "    print selector.n_features_\n",
      "    print \"Total time: {:.2f}\".format(time.time() - start)\n",
      "    return selector\n",
      "    \n",
      "tbudget = 500\n",
      "\n",
      "#for d in D.values():\n",
      "processor = pp.PolynomialFeatures(include_bias=False)\n",
      "d = pp.fit_transform(D[\"sylvine\"])\n",
      "s = fit_predict(d, tbudget)"
     ],
     "language": "python",
     "metadata": {},
     "outputs": [
      {
       "output_type": "stream",
       "stream": "stdout",
       "text": [
        "Benchmarking madeline\n",
        "Finished fold with 1 / 12 feature ranks, score=0.114824"
       ]
      },
      {
       "output_type": "stream",
       "stream": "stdout",
       "text": [
        "\n",
        "Finished fold with 2 / 12 feature ranks, score=0.635823"
       ]
      },
      {
       "output_type": "stream",
       "stream": "stdout",
       "text": [
        "\n",
        "Finished fold with 3 / 12 feature ranks, score=0.693120"
       ]
      },
      {
       "output_type": "stream",
       "stream": "stdout",
       "text": [
        "\n",
        "Finished fold with 4 / 12 feature ranks, score=0.651287"
       ]
      },
      {
       "output_type": "stream",
       "stream": "stdout",
       "text": [
        "\n",
        "Finished fold with 5 / 12 feature ranks, score=0.624678"
       ]
      },
      {
       "output_type": "stream",
       "stream": "stdout",
       "text": [
        "\n",
        "Finished fold with 6 / 12 feature ranks, score=0.538699"
       ]
      },
      {
       "output_type": "stream",
       "stream": "stdout",
       "text": [
        "\n",
        "Finished fold with 7 / 12 feature ranks, score=0.521512"
       ]
      },
      {
       "output_type": "stream",
       "stream": "stdout",
       "text": [
        "\n",
        "Finished fold with 8 / 12 feature ranks, score=0.534926"
       ]
      },
      {
       "output_type": "stream",
       "stream": "stdout",
       "text": [
        "\n",
        "Finished fold with 9 / 12 feature ranks, score=0.506463"
       ]
      },
      {
       "output_type": "stream",
       "stream": "stdout",
       "text": [
        "\n",
        "Finished fold with 10 / 12 feature ranks, score=0.479876"
       ]
      },
      {
       "output_type": "stream",
       "stream": "stdout",
       "text": [
        "\n",
        "Finished fold with 11 / 12 feature ranks, score=0.430059"
       ]
      },
      {
       "output_type": "stream",
       "stream": "stdout",
       "text": [
        "\n",
        "Finished fold with 12 / 12 feature ranks, score=0.397888"
       ]
      },
      {
       "output_type": "stream",
       "stream": "stdout",
       "text": [
        "\n",
        "Finished fold with 1 / 12 feature ranks, score=0.025000"
       ]
      },
      {
       "output_type": "stream",
       "stream": "stdout",
       "text": [
        "\n",
        "Finished fold with 2 / 12 feature ranks, score=0.703832"
       ]
      },
      {
       "output_type": "stream",
       "stream": "stdout",
       "text": [
        "\n",
        "Finished fold with 3 / 12 feature ranks, score=0.715326"
       ]
      },
      {
       "output_type": "stream",
       "stream": "stdout",
       "text": [
        "\n",
        "Finished fold with 4 / 12 feature ranks, score=0.688666"
       ]
      },
      {
       "output_type": "stream",
       "stream": "stdout",
       "text": [
        "\n",
        "Finished fold with 5 / 12 feature ranks, score=0.642885"
       ]
      },
      {
       "output_type": "stream",
       "stream": "stdout",
       "text": [
        "\n",
        "Finished fold with 6 / 12 feature ranks, score=0.593214"
       ]
      },
      {
       "output_type": "stream",
       "stream": "stdout",
       "text": [
        "\n",
        "Finished fold with 7 / 12 feature ranks, score=0.553071"
       ]
      },
      {
       "output_type": "stream",
       "stream": "stdout",
       "text": [
        "\n",
        "Finished fold with 8 / 12 feature ranks, score=0.524335"
       ]
      },
      {
       "output_type": "stream",
       "stream": "stdout",
       "text": [
        "\n",
        "Finished fold with 9 / 12 feature ranks, score=0.484433"
       ]
      },
      {
       "output_type": "stream",
       "stream": "stdout",
       "text": [
        "\n",
        "Finished fold with 10 / 12 feature ranks, score=0.534038"
       ]
      },
      {
       "output_type": "stream",
       "stream": "stdout",
       "text": [
        "\n",
        "Finished fold with 11 / 12 feature ranks, score=0.452004"
       ]
      },
      {
       "output_type": "stream",
       "stream": "stdout",
       "text": [
        "\n",
        "Finished fold with 12 / 12 feature ranks, score=0.444377"
       ]
      },
      {
       "output_type": "stream",
       "stream": "stdout",
       "text": [
        "\n",
        "Finished fold with 1 / 12 feature ranks, score=0.080462"
       ]
      },
      {
       "output_type": "stream",
       "stream": "stdout",
       "text": [
        "\n",
        "Finished fold with 2 / 12 feature ranks, score=0.780338"
       ]
      },
      {
       "output_type": "stream",
       "stream": "stdout",
       "text": [
        "\n",
        "Finished fold with 3 / 12 feature ranks, score=0.764975"
       ]
      },
      {
       "output_type": "stream",
       "stream": "stdout",
       "text": [
        "\n",
        "Finished fold with 4 / 12 feature ranks, score=0.682590"
       ]
      },
      {
       "output_type": "stream",
       "stream": "stdout",
       "text": [
        "\n",
        "Finished fold with 5 / 12 feature ranks, score=0.627325"
       ]
      },
      {
       "output_type": "stream",
       "stream": "stdout",
       "text": [
        "\n",
        "Finished fold with 6 / 12 feature ranks, score=0.600578"
       ]
      },
      {
       "output_type": "stream",
       "stream": "stdout",
       "text": [
        "\n",
        "Finished fold with 7 / 12 feature ranks, score=0.585566"
       ]
      },
      {
       "output_type": "stream",
       "stream": "stdout",
       "text": [
        "\n",
        "Finished fold with 8 / 12 feature ranks, score=0.526170"
       ]
      },
      {
       "output_type": "stream",
       "stream": "stdout",
       "text": [
        "\n",
        "Finished fold with 9 / 12 feature ranks, score=0.480257"
       ]
      },
      {
       "output_type": "stream",
       "stream": "stdout",
       "text": [
        "\n",
        "Finished fold with 10 / 12 feature ranks, score=0.514412"
       ]
      },
      {
       "output_type": "stream",
       "stream": "stdout",
       "text": [
        "\n",
        "Finished fold with 11 / 12 feature ranks, score=0.487972"
       ]
      },
      {
       "output_type": "stream",
       "stream": "stdout",
       "text": [
        "\n",
        "Finished fold with 12 / 12 feature ranks, score=0.461246"
       ]
      },
      {
       "output_type": "stream",
       "stream": "stdout",
       "text": [
        "\n",
        "Benchmark time=36.06, Pred time=0.00"
       ]
      },
      {
       "output_type": "stream",
       "stream": "stdout",
       "text": [
        "\n",
        "34\n",
        "Total time: 36.06\n",
        "CPU times: user 40.6 s, sys: 1.47 s, total: 42.1 s\n",
        "Wall time: 36.1 s\n"
       ]
      }
     ],
     "prompt_number": 19
    },
    {
     "cell_type": "code",
     "collapsed": false,
     "input": [
      "np.max(s.grid_scores_)"
     ],
     "language": "python",
     "metadata": {},
     "outputs": [
      {
       "metadata": {},
       "output_type": "pyout",
       "prompt_number": 25,
       "text": [
        "0.72447389940863072"
       ]
      }
     ],
     "prompt_number": 25
    },
    {
     "cell_type": "code",
     "collapsed": false,
     "input": [
      "s.n_features_"
     ],
     "language": "python",
     "metadata": {},
     "outputs": [
      {
       "metadata": {},
       "output_type": "pyout",
       "prompt_number": 24,
       "text": [
        "34"
       ]
      }
     ],
     "prompt_number": 24
    },
    {
     "cell_type": "code",
     "collapsed": false,
     "input": [],
     "language": "python",
     "metadata": {},
     "outputs": []
    }
   ],
   "metadata": {}
  }
 ]
}